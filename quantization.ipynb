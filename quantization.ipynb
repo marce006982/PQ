{
 "cells": [
  {
   "cell_type": "code",
   "execution_count": 30,
   "metadata": {},
   "outputs": [],
   "source": [
    "from transformers import AutoTokenizer, GPTQConfig, BertForSequenceClassification, BertTokenizer\n",
    "from datasets import load_from_disk\n",
    "from tqdm import tqdm\n",
    "import torch"
   ]
  },
  {
   "cell_type": "code",
   "execution_count": 31,
   "metadata": {},
   "outputs": [],
   "source": [
    "model_id = \"./7bert\"\n",
    "qModelID = \"./7qbert\""
   ]
  },
  {
   "cell_type": "code",
   "execution_count": 32,
   "metadata": {},
   "outputs": [],
   "source": [
    "fp16_model = BertForSequenceClassification.from_pretrained('./5bert')\n",
    "fp32_model = fp16_model.to(torch.float32)\n",
    "fp16_model.save_pretrained(model_id)"
   ]
  },
  {
   "cell_type": "code",
   "execution_count": 33,
   "metadata": {},
   "outputs": [],
   "source": [
    "tokenizer = BertTokenizer.from_pretrained('./data/bert/bert_tokenizer')\n",
    "dataset = load_from_disk('./data/bert/imdb_dataset').shuffle()"
   ]
  },
  {
   "cell_type": "code",
   "execution_count": 34,
   "metadata": {},
   "outputs": [],
   "source": [
    "model = BertForSequenceClassification.from_pretrained(model_id, num_labels=2)"
   ]
  },
  {
   "cell_type": "code",
   "execution_count": null,
   "metadata": {},
   "outputs": [],
   "source": [
    "# 检查模型的第一个参数的数据类型\n",
    "first_param_dtype = next(model.parameters()).dtype\n",
    "\n",
    "print(f\"The model's first parameter dtype is: {first_param_dtype}\")\n",
    "\n",
    "# 判断模型是 FP32 还是 FP16\n",
    "if first_param_dtype == torch.float32:\n",
    "    print(\"The model is in FP32.\")\n",
    "elif first_param_dtype == torch.float16:\n",
    "    print(\"The model is in FP16.\")\n",
    "else:\n",
    "    print(\"The model is in another precision format.\")"
   ]
  },
  {
   "cell_type": "code",
   "execution_count": null,
   "metadata": {},
   "outputs": [],
   "source": [
    "inputdata = []\n",
    "for i in tqdm(range(1000)):\n",
    "    ex = dataset['train'][i]\n",
    "    if  len(tokenizer(ex['text'], padding=True, truncation=True)['input_ids']) < 512:\n",
    "        inputdata.append(ex['text'])"
   ]
  },
  {
   "cell_type": "code",
   "execution_count": 37,
   "metadata": {},
   "outputs": [],
   "source": [
    "gptq_config = GPTQConfig(bits=4, \n",
    "                        dataset=inputdata, \n",
    "                        tokenizer=tokenizer,\n",
    "                        block_name_to_quantize = 'bert.encoder.layer', \n",
    "                        use_exllama=False\n",
    "                        )"
   ]
  },
  {
   "cell_type": "code",
   "execution_count": null,
   "metadata": {},
   "outputs": [],
   "source": [
    "quantized_model = BertForSequenceClassification.from_pretrained(\n",
    "    model_id, \n",
    "    quantization_config=gptq_config,\n",
    "    low_cpu_mem_usage = False\n",
    "    )"
   ]
  },
  {
   "cell_type": "code",
   "execution_count": 39,
   "metadata": {},
   "outputs": [],
   "source": [
    "quantized_model = quantized_model.to(\"cpu\")\n",
    "quantized_model.save_pretrained(qModelID)\n",
    "# print(quantized_model)"
   ]
  },
  {
   "cell_type": "code",
   "execution_count": 53,
   "metadata": {},
   "outputs": [],
   "source": [
    "tokenizer = BertTokenizer.from_pretrained('./data/bert/bert_tokenizer')\n",
    "dataset = load_from_disk('./data/bert/imdb_dataset')\n",
    "dataset.shuffle()\n",
    "data = dataset['test'].select(range(3000))"
   ]
  },
  {
   "cell_type": "code",
   "execution_count": 54,
   "metadata": {},
   "outputs": [],
   "source": [
    "def testAccuracy(model, data, device):\n",
    "    model = model.to(device)\n",
    "    model.eval()\n",
    "    testlen = len(data)\n",
    "    num_wrong = 0\n",
    "    for i in tqdm(range(testlen)):\n",
    "        ex = data[i]\n",
    "        text = ex['text']\n",
    "        lable = ex['label']\n",
    "        input = tokenizer(text, return_tensors=\"pt\",padding=True, truncation=True).to(device)\n",
    "        output = model(**input)\n",
    "        if int(torch.argmax(output.logits)) != lable:\n",
    "            num_wrong += 1\n",
    "    return 100-num_wrong/testlen*100"
   ]
  },
  {
   "cell_type": "code",
   "execution_count": null,
   "metadata": {},
   "outputs": [],
   "source": [
    "qModelID = \"./5qbert\"\n",
    "model = BertForSequenceClassification.from_pretrained(\n",
    "    qModelID, \n",
    "    low_cpu_mem_usage = False\n",
    "    )"
   ]
  },
  {
   "cell_type": "code",
   "execution_count": null,
   "metadata": {},
   "outputs": [],
   "source": [
    "testAccuracy(model, data, 'cuda')"
   ]
  }
 ],
 "metadata": {
  "kernelspec": {
   "display_name": "csd_env",
   "language": "python",
   "name": "python3"
  },
  "language_info": {
   "codemirror_mode": {
    "name": "ipython",
    "version": 3
   },
   "file_extension": ".py",
   "mimetype": "text/x-python",
   "name": "python",
   "nbconvert_exporter": "python",
   "pygments_lexer": "ipython3",
   "version": "3.9.20"
  }
 },
 "nbformat": 4,
 "nbformat_minor": 2
}
